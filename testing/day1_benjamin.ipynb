{
 "cells": [
  {
   "cell_type": "markdown",
   "metadata": {},
   "source": [
    "# GazeClusterML\n",
    "\n",
    "### Authored by: Taimur Khan, Benjamin Nava Höer\n",
    "***Final Project for TU Berlin WU'20 course: Machine Learning using Python: Theory and Application**\n",
    "\n",
    "___**Licensed under:**___"
   ]
  },
  {
   "cell_type": "markdown",
   "metadata": {},
   "source": [
    "### 1. Introduction"
   ]
  },
  {
   "cell_type": "code",
   "execution_count": null,
   "metadata": {},
   "outputs": [],
   "source": []
  },
  {
   "cell_type": "markdown",
   "metadata": {},
   "source": [
    "### 2. Background"
   ]
  },
  {
   "cell_type": "code",
   "execution_count": null,
   "metadata": {},
   "outputs": [],
   "source": []
  },
  {
   "cell_type": "markdown",
   "metadata": {},
   "source": [
    "### 3. Theoretical Rationalization"
   ]
  },
  {
   "cell_type": "code",
   "execution_count": null,
   "metadata": {},
   "outputs": [],
   "source": []
  },
  {
   "cell_type": "markdown",
   "metadata": {},
   "source": [
    "### 4. Implementation"
   ]
  },
  {
   "cell_type": "markdown",
   "metadata": {},
   "source": [
    "**4.0. Setup Environment**"
   ]
  },
  {
   "cell_type": "code",
   "execution_count": null,
   "metadata": {},
   "outputs": [],
   "source": []
  },
  {
   "cell_type": "markdown",
   "metadata": {},
   "source": [
    "**4.1. Load and explore data**"
   ]
  },
  {
   "cell_type": "code",
   "execution_count": 11,
   "metadata": {},
   "outputs": [
    {
     "name": "stdout",
     "output_type": "stream",
     "text": [
      "     timestamp            x           y     label\n",
      "0            0   986.288075  508.004755  Fixation\n",
      "1           73  1005.492167  495.522600  Fixation\n",
      "2          134   942.353008  492.123891  Fixation\n",
      "3          185   948.193646  474.714589  Fixation\n",
      "4          235   938.728917  481.875697  Fixation\n",
      "..         ...          ...         ...       ...\n",
      "968      60338   904.812802  246.252619   Saccade\n",
      "969      60397   861.176955  262.574859  Fixation\n",
      "970      60447   732.960155  276.037371  Fixation\n",
      "971      60531   635.075056  295.309572   Saccade\n",
      "972      60581   618.075163  313.958367  Fixation\n",
      "\n",
      "[973 rows x 4 columns]\n",
      "      timestamp            x           y     label\n",
      "0             0   805.724813  598.797895  Fixation\n",
      "1            60   830.150531  575.433364  Fixation\n",
      "2           145   853.116613  571.833358  Fixation\n",
      "3           196   840.831675  574.131049  Fixation\n",
      "4           246   841.620069  571.197856   Saccade\n",
      "...         ...          ...         ...       ...\n",
      "1098      68922   992.337366  583.112148  Fixation\n",
      "1099      68976   939.116101  544.840858  Fixation\n",
      "1100      69027   925.749212  530.538707  Fixation\n",
      "1101      69108   928.691400  529.659512  Fixation\n",
      "1102      69160  1021.360609  556.513418   Saccade\n",
      "\n",
      "[1103 rows x 4 columns]\n"
     ]
    }
   ],
   "source": [
    "# load data from the rest api\n",
    "import json\n",
    "import urllib.request\n",
    "import pandas as pd\n",
    "import numpy as np\n",
    "import matplotlib.pyplot as plt\n",
    "\n",
    "url = urllib.request.urlopen(\"http://dschr.de/api/resultCombineData\")\n",
    "data = json.loads(url.read().decode())\n",
    "ts1 = pandas.DataFrame(data[0][\"data\"]) # time series 1\n",
    "ts2 = pandas.DataFrame(data[1][\"data\"]) # time series 2\n",
    "\n",
    "# setting timestamp to start by 0\n",
    "ts1['timestamp'] = ts1['timestamp'].apply(lambda x: x - ts1['timestamp'][0]) \n",
    "ts2['timestamp'] = ts2['timestamp'].apply(lambda x: x - ts2['timestamp'][0])\n",
    "\n",
    "print(ts1)\n",
    "print(ts2)"
   ]
  },
  {
   "cell_type": "markdown",
   "metadata": {},
   "source": [
    "**4.2. Preprocess data**"
   ]
  },
  {
   "cell_type": "code",
   "execution_count": 18,
   "metadata": {},
   "outputs": [
    {
     "data": {
      "text/plain": [
       "(973, 4)"
      ]
     },
     "execution_count": 18,
     "metadata": {},
     "output_type": "execute_result"
    }
   ],
   "source": [
    "session_arrays = []\n",
    "for i in range(16):\n",
    "    session_arrays.append(pandas.DataFrame(data[i][\"data\"]).to_numpy())\n",
    "session_arrays[0].shape"
   ]
  },
  {
   "cell_type": "markdown",
   "metadata": {},
   "source": [
    "**4.3. Choose and implement model**"
   ]
  },
  {
   "cell_type": "code",
   "execution_count": null,
   "metadata": {},
   "outputs": [],
   "source": [
    "from slearn.cluster import DBSCAN\n",
    "eps = [0.1, 1, 10]\n",
    "min_samples = [3, 5, 7, 9]\n",
    "\n",
    "for i in eps:\n",
    "    for j in min_samples:\n",
    "        clf_dbscan = DBSCAN(eps=parameters_dbscan[1], min_samples=min_samples, metric='euclidian', algorithm='auto', leaf_size=30, p=2, n_jobs=1)\n"
   ]
  },
  {
   "cell_type": "markdown",
   "metadata": {},
   "source": [
    "**4.4. Train model**"
   ]
  },
  {
   "cell_type": "code",
   "execution_count": null,
   "metadata": {},
   "outputs": [],
   "source": []
  },
  {
   "cell_type": "markdown",
   "metadata": {},
   "source": [
    "**4.5. Evaluate model**"
   ]
  },
  {
   "cell_type": "code",
   "execution_count": null,
   "metadata": {},
   "outputs": [],
   "source": []
  },
  {
   "cell_type": "markdown",
   "metadata": {},
   "source": [
    "### 5. Conclusions "
   ]
  },
  {
   "cell_type": "markdown",
   "metadata": {},
   "source": [
    "### 6. References"
   ]
  },
  {
   "cell_type": "code",
   "execution_count": null,
   "metadata": {},
   "outputs": [],
   "source": []
  }
 ],
 "metadata": {
  "kernelspec": {
   "display_name": "Python 3",
   "language": "python",
   "name": "python3"
  },
  "language_info": {
   "codemirror_mode": {
    "name": "ipython",
    "version": 3
   },
   "file_extension": ".py",
   "mimetype": "text/x-python",
   "name": "python",
   "nbconvert_exporter": "python",
   "pygments_lexer": "ipython3",
   "version": "3.8.5"
  }
 },
 "nbformat": 4,
 "nbformat_minor": 5
}
