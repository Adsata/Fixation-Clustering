{
 "cells": [
  {
   "cell_type": "markdown",
   "id": "sexual-neutral",
   "metadata": {},
   "source": [
    "# GazeClusterML\n",
    "\n",
    "### Authored by: Taimur Khan, Benjamin Nava Höer\n",
    "***Final Project for TU Berlin WU'20 course: Machine Learning using Python: Theory and Application**\n",
    "\n",
    "___**Licensed under:**___"
   ]
  },
  {
   "cell_type": "markdown",
   "id": "incredible-enhancement",
   "metadata": {},
   "source": [
    "### 1. Abstract"
   ]
  },
  {
   "cell_type": "markdown",
   "id": "laughing-surrey",
   "metadata": {},
   "source": [
    "Machine Learning(ML) methods have shown promissing results in the classification of eyetracking data into fixations and saccades. However, present ML models for such classsification are trained with data from eyetracking hardware, and hence do not perform well on webcam-based eyetrackng. Additonally, no labeled (fixations and saccades) dataset exists for webcam-based eyetracking data.\n",
    "\n",
    "Here, an unlabeled dataset of an eyetracking timeseries was clustered using the spatial clustering algorithms DBSCAN and OPTICS, as well as the spatio-temporal clustering algorithms ST-DBSCAN and ST-OPTICS. The silhouette score was not found to be the appropriate evaluation metric for the obtained clusterings. A second, manually labelled dataset was used to evaluate the accuracy of the most promising algorithm ST-OPTICS. 75.38% of the predicted labels matched the provided labels, making ST-OPTICS a valuable tool for the labeling of webcam-based eyetracking data.\n",
    "\n",
    "![SegmentLocal](3d-DBSCAN.gif \"segment\")\n"
   ]
  },
  {
   "cell_type": "markdown",
   "id": "divided-dating",
   "metadata": {},
   "source": [
    "### 2. Introduction"
   ]
  },
  {
   "cell_type": "markdown",
   "id": "universal-finnish",
   "metadata": {},
   "source": [
    "**2.1. The Problem** \n",
    "\n",
    "Event detection is a challenging stage in eye movement data analysis. A major drawback of current event detection methods is that parameters have to be adjusted based on eye movement data quality. Such noise is even further exagerated in data gathered by Adsata's webcam-based eyetracking system. Here we show that a fully automated clustering of raw gaze samples can help to create labeled datasets with clusters belonging to fixations or noise, using a machine-learning approach. Any already manually or algorithmically detected events can be used to train a classifier to produce similar classification of other data without the need for a user to set parameters. In this study, we explore the application of the following machine learning clustering methods  for the detection of fixations. In an effort to show practical utility of the proposed method to the applications that employ eye movement classification algorithms, we provide an example where the method is employed in an eye movement-driven biometric application."
   ]
  },
  {
   "cell_type": "markdown",
   "id": "together-webster",
   "metadata": {},
   "source": [
    "**2.2. About the datasets**\n",
    "\n",
    "___Dataset 1___\n",
    "\n"
   ]
  },
  {
   "cell_type": "markdown",
   "id": "changed-annex",
   "metadata": {},
   "source": [
    "### 3. Theoretical Rationalization"
   ]
  },
  {
   "cell_type": "markdown",
   "id": "stunning-configuration",
   "metadata": {},
   "source": [
    "#### 3.1 DBSCAN : Density-Based Spatial Clustering of Applications with Noise [3]\n",
    "DBSCAN discovers arbitrarily shaped clusters in a dataset using a radius value $\\epsilon$ based on a user defined distance measure, i.e. euclidean. Additionally, a MinPts value defines the minimal number of points that should occur within $\\epsilon$ radius. Given the neighborhood of $p$ as $N(p) := \\{q \\in D: d(p,q) \\leq \\epsilon\\}$ with $D := dataset$ and $p$ and $q$ as points therein, this leads to the following three kinds of points:\n",
    "- Core points: $\\mid N(p)\\mid \\geq MinPts$\n",
    "- Border points: $\\mid N(p)\\mid < MinPts$\n",
    "- Else: Noise\n",
    "\n",
    "Source code: https://github.com/scikit-learn/scikit-learn/blob/b3ea3ed6a/sklearn/cluster/_dbscan.py#L148\n",
    "\n",
    "#### 3.3 ST-DBSCAN : Spatio-Temporal Density-Based Spatial Clustering of Applications with Noise [2]\n",
    "ST-DBSCAN extends builds on DBSCAN by adding a second, temporal radius value $\\epsilon_{2}$. Analogous distance metrics as for $\\epsilon$ can be used, i.e. euclidean. The neighborhood of a point is now described by both $\\epsilon$ and $\\epsilon_{2}$: \n",
    "\n",
    "$N(p) := \\{q \\in D: d_{1}(p,q) \\leq \\epsilon_{1},d_{2}(p,q) \\leq \\epsilon_{2}\\}$\n",
    "\n",
    "Thereupon the points in the dataset will be classified according to the above mentioned categories.\n",
    "\n",
    "Source Code: https://github.com/eren-ck/st_dbscan\n",
    "\n",
    "#### 3.4 OPTICS: Ordering Points To Identify the Clustering Structure [1]\n",
    "\n",
    "The OPTICS algorithm shares many similarities with the DBSCAN algorithm, and can be considered a generalization of DBSCAN that relaxes the eps requirement from a single value to a value range. The key difference between DBSCAN and OPTICS is that the OPTICS algorithm builds a reachability graph, which assigns each sample both a reachability_ distance, and a spot within the cluster ordering_ attribute; these two attributes are assigned when the model is fitted, and are used to determine cluster membership. If OPTICS is run with the default value of inf set for max_eps, then DBSCAN style cluster extraction can be performed repeatedly in linear time for any given eps value using the cluster_optics_dbscan method. Setting max_eps to a lower value will result in shorter run times, and can be thought of as the maximum neighborhood radius from each point to find other potential reachable points.\n",
    "\n",
    "Source code: https://github.com/scikit-learn/scikit-learn/blob/b3ea3ed6a/sklearn/cluster/_optics.py#L24\n",
    "\n",
    "#### 3.5 ST-OPTICS [4]\n",
    "\n",
    "ST-OPTICS extends OPTICS by also taking a temporal radius into the calculation.\n",
    "\n",
    "Source code: https://github.com/eren-ck/st_optics\n"
   ]
  },
  {
   "cell_type": "markdown",
   "id": "convertible-procurement",
   "metadata": {},
   "source": [
    "### 4. Implementation"
   ]
  },
  {
   "cell_type": "markdown",
   "id": "specialized-seminar",
   "metadata": {},
   "source": [
    "**4.0. Setup Environment**"
   ]
  },
  {
   "cell_type": "code",
   "execution_count": null,
   "id": "computational-header",
   "metadata": {},
   "outputs": [],
   "source": [
    " # OPTIONAL: Python package installations\n",
    "    \n",
    "!pip install st-dbscan #https://github.com/eren-ck/st_dbscan\n",
    "!pip install ipympl\n",
    "!pip install st_optics #https://github.com/eren-ck/st_optics"
   ]
  },
  {
   "cell_type": "code",
   "execution_count": 11,
   "id": "quarterly-judges",
   "metadata": {},
   "outputs": [],
   "source": [
    "# Import project dependencies\n",
    "\n",
    "import json\n",
    "import urllib.request\n",
    "import pandas as pd\n",
    "import numpy as np\n",
    "import matplotlib.pyplot as plt\n",
    "from sklearn.cluster import DBSCAN, OPTICS, cluster_optics_dbscan\n",
    "from st_dbscan import ST_DBSCAN\n",
    "from mpl_toolkits.mplot3d import Axes3D\n",
    "from sklearn.metrics import silhouette_score\n",
    "from st_dbscan import ST_DBSCAN\n",
    "import matplotlib.pyplot as plt\n",
    "from mpl_toolkits.mplot3d import Axes3D\n",
    "from matplotlib import animation\n",
    "from st_optics import ST_OPTICS\n",
    "from sklearn.metrics import accuracy_score"
   ]
  },
  {
   "cell_type": "markdown",
   "id": "shaped-coating",
   "metadata": {},
   "source": [
    "**4.1. Load and explore data**"
   ]
  },
  {
   "cell_type": "code",
   "execution_count": 4,
   "id": "under-friendly",
   "metadata": {},
   "outputs": [
    {
     "data": {
      "text/plain": [
       "(     timestamp            x           y     label\n",
       " 0       102708   986.288075  508.004755  Fixation\n",
       " 1       102781  1005.492167  495.522600  Fixation\n",
       " 2       102842   942.353008  492.123891  Fixation\n",
       " 3       102893   948.193646  474.714589  Fixation\n",
       " 4       102943   938.728917  481.875697  Fixation\n",
       " ..         ...          ...         ...       ...\n",
       " 968     163046   904.812802  246.252619   Saccade\n",
       " 969     163105   861.176955  262.574859  Fixation\n",
       " 970     163155   732.960155  276.037371  Fixation\n",
       " 971     163239   635.075056  295.309572   Saccade\n",
       " 972     163289   618.075163  313.958367  Fixation\n",
       " \n",
       " [973 rows x 4 columns],\n",
       "      timestamp           x           y     label\n",
       " 0        39342  739.023953  417.475902  fixation\n",
       " 1        39380  707.481049  444.210737  fixation\n",
       " 2        39424  713.926225  445.593758  fixation\n",
       " 3        39469  704.775582  469.488595  fixation\n",
       " 4        39507  704.159921  476.988842  fixation\n",
       " ..         ...         ...         ...       ...\n",
       " 836      75791  610.012227  260.745510   saccade\n",
       " 837      75841  677.415175  327.846551   saccade\n",
       " 838      75883  674.590945  369.156196   saccade\n",
       " 839      75924  671.668082  416.032663  fixation\n",
       " 840      75961  684.261518  428.946405  fixation\n",
       " \n",
       " [841 rows x 4 columns])"
      ]
     },
     "execution_count": 4,
     "metadata": {},
     "output_type": "execute_result"
    }
   ],
   "source": [
    "# Loading first dataset and store in dataframe 'df1'\n",
    "url1 = urllib.request.urlopen(\"http://dschr.de/api/resultCombineData\")\n",
    "data1 = json.loads(url1.read().decode())\n",
    "df1 = pd.DataFrame(data1[0][\"data\"])\n",
    "\n",
    "# Loading second dataset and store in dataframe 'df2'\n",
    "url2 = urllib.request.urlopen(\"http://dschr.de/api/handLabeled\")\n",
    "data2 = json.loads(url2.read().decode())\n",
    "df2 = pd.DataFrame(data2[0][\"data\"])\n",
    "\n",
    "\n",
    "df1, df2"
   ]
  },
  {
   "cell_type": "markdown",
   "id": "adult-statement",
   "metadata": {},
   "source": [
    "**4.2. Preprocess data**"
   ]
  },
  {
   "cell_type": "code",
   "execution_count": 5,
   "id": "forward-dominant",
   "metadata": {},
   "outputs": [
    {
     "data": {
      "text/plain": [
       "(array([[0, 986.2880749379, 508.0047550332, 'Fixation'],\n",
       "        [73, 1005.4921671685, 495.5226000186, 'Fixation'],\n",
       "        [134, 942.3530079831, 492.1238913635, 'Fixation'],\n",
       "        ...,\n",
       "        [60447, 732.960154917, 276.0373709741, 'Fixation'],\n",
       "        [60531, 635.0750563979, 295.3095717554, 'Saccade'],\n",
       "        [60581, 618.0751626144, 313.9583669145, 'Fixation']], dtype=object),\n",
       " array([[0, 739.0239530773961, 417.4759015313773, 'fixation'],\n",
       "        [38, 707.4810489651718, 444.2107367829889, 'fixation'],\n",
       "        [82, 713.9262252699162, 445.593757589654, 'fixation'],\n",
       "        ...,\n",
       "        [36541, 674.5909449373224, 369.15619639448806, 'saccade'],\n",
       "        [36582, 671.6680822153079, 416.0326625889876, 'fixation'],\n",
       "        [36619, 684.2615176944689, 428.94640490405294, 'fixation']],\n",
       "       dtype=object))"
      ]
     },
     "execution_count": 5,
     "metadata": {},
     "output_type": "execute_result"
    }
   ],
   "source": [
    "# setting timestamps in both dataframes to start at 0\n",
    "df1['timestamp'] = df1['timestamp'].apply(lambda x: x - df1['timestamp'][0]) \n",
    "df2['timestamp'] = df2['timestamp'].apply(lambda x: x - df2['timestamp'][0])\n",
    "\n",
    "#Convert dataframes to numpy arrays\n",
    "array1 = df1.to_numpy()\n",
    "array2 = df2.to_numpy()\n",
    "\n",
    "array1, array2"
   ]
  },
  {
   "cell_type": "markdown",
   "id": "still-appointment",
   "metadata": {},
   "source": [
    "**4.3. Choose and implement model**"
   ]
  },
  {
   "cell_type": "code",
   "execution_count": 21,
   "id": "medieval-choir",
   "metadata": {},
   "outputs": [],
   "source": [
    "# Setup DBSCAN classifier\n",
    "eps_dbscan=150\n",
    "min_samples_dbscan=5\n",
    "\n",
    "clf_dbscan = DBSCAN(eps=eps_dbscan, min_samples=min_samples_dbscan, metric='euclidean', algorithm='auto', leaf_size=30, p=2, n_jobs=1)\n",
    "\n",
    "# Setup ST-DBSCAN classifier\n",
    "eps_stdbscan=70\n",
    "eps2_stdbscan=250\n",
    "min_samples_stdbscan=5\n",
    "\n",
    "clf_st_dbscan = ST_DBSCAN(eps1=eps_stdbscan, eps2=eps2_stdbscan, min_samples=min_samples_stdbscan) \n",
    "\n",
    "# Setup OPTICS classifier\n",
    "xi_optics = 0.05\n",
    "max_eps_optics = 180\n",
    "min_cluster_size_optics = 5\n",
    "min_samples_optics = 4\n",
    "\n",
    "clf_optics = OPTICS(cluster_method = 'xi', xi= xi_optics, max_eps= max_eps_optics, min_cluster_size = min_cluster_size_optics, min_samples=min_samples_optics, metric='euclidean', algorithm='auto', p=2)\n",
    "\n",
    "# Setup ST-OPTICS classifier\n",
    "xi_stoptics = 0.2\n",
    "eps2_stoptics = 250\n",
    "min_samples = 4\n",
    "\n",
    "clf_st_optics = ST_OPTICS(xi = 0.08, eps2 = 250, min_samples = 5)\n",
    "\n"
   ]
  },
  {
   "cell_type": "markdown",
   "id": "fantastic-karen",
   "metadata": {},
   "source": [
    "**4.4. Train model and predict labels**"
   ]
  },
  {
   "cell_type": "markdown",
   "id": "unauthorized-collector",
   "metadata": {},
   "source": [
    "##### 4.4.1 DBSCAN"
   ]
  },
  {
   "cell_type": "code",
   "execution_count": 22,
   "id": "charming-wagner",
   "metadata": {
    "scrolled": false
   },
   "outputs": [
    {
     "data": {
      "application/vnd.jupyter.widget-view+json": {
       "model_id": "2cbc603c454e4522b3d334ff4fd2555d",
       "version_major": 2,
       "version_minor": 0
      },
      "text/plain": [
       "Canvas(toolbar=Toolbar(toolitems=[('Home', 'Reset original view', 'home', 'home'), ('Back', 'Back to previous …"
      ]
     },
     "metadata": {},
     "output_type": "display_data"
    },
    {
     "data": {
      "text/plain": [
       "<mpl_toolkits.mplot3d.art3d.Path3DCollection at 0x7faa25e82e90>"
      ]
     },
     "execution_count": 22,
     "metadata": {},
     "output_type": "execute_result"
    }
   ],
   "source": [
    "clf_dbscan.fit(df1.iloc[:,:3])\n",
    "\n",
    "labels_pred_dbscan = clf_dbscan.labels_\n",
    "\n",
    "for i in range(labels_pred_dbscan.size):\n",
    "    if labels_pred_dbscan[i] >= 0:\n",
    "        labels_pred_dbscan[i] = 1\n",
    "\n",
    "          \n",
    "%matplotlib widget\n",
    "fig = plt.figure(figsize=(10,10))\n",
    "ax = fig.add_subplot(111, projection='3d')\n",
    "ax.scatter(df1.iloc[:,1],df1.iloc[:,2],df1.iloc[:,0], c=labels_pred_dbscan)"
   ]
  },
  {
   "cell_type": "markdown",
   "id": "fourth-organic",
   "metadata": {},
   "source": [
    "##### 4.4.2 ST-DBSCAN"
   ]
  },
  {
   "cell_type": "code",
   "execution_count": 23,
   "id": "flexible-unemployment",
   "metadata": {},
   "outputs": [
    {
     "data": {
      "application/vnd.jupyter.widget-view+json": {
       "model_id": "a84cedc30e9e4c91af1a77a9b4ab2729",
       "version_major": 2,
       "version_minor": 0
      },
      "text/plain": [
       "Canvas(toolbar=Toolbar(toolitems=[('Home', 'Reset original view', 'home', 'home'), ('Back', 'Back to previous …"
      ]
     },
     "metadata": {},
     "output_type": "display_data"
    },
    {
     "data": {
      "text/plain": [
       "<mpl_toolkits.mplot3d.art3d.Path3DCollection at 0x7faa2705b650>"
      ]
     },
     "execution_count": 23,
     "metadata": {},
     "output_type": "execute_result"
    }
   ],
   "source": [
    "clf_st_dbscan.fit(df1.iloc[:,:3])\n",
    "\n",
    "labels_pred_stdbscan = clf_st_dbscan.labels\n",
    "\n",
    "for i in range(labels_pred_stdbscan.size):\n",
    "    if labels_pred_stdbscan[i] >= 0:\n",
    "        labels_pred_stdbscan[i] = 1\n",
    "\n",
    "          \n",
    "%matplotlib widget\n",
    "fig = plt.figure(figsize=(10,10))\n",
    "ax = fig.add_subplot(111, projection='3d')\n",
    "ax.scatter(df1.iloc[:,1],df1.iloc[:,2],df1.iloc[:,0], c=labels_pred_stdbscan)"
   ]
  },
  {
   "cell_type": "markdown",
   "id": "secret-belarus",
   "metadata": {},
   "source": [
    "**4.4.3 OPTICS**"
   ]
  },
  {
   "cell_type": "code",
   "execution_count": 24,
   "id": "imported-wellington",
   "metadata": {},
   "outputs": [
    {
     "data": {
      "application/vnd.jupyter.widget-view+json": {
       "model_id": "59bc6c004ce3440991bb58a9439094ff",
       "version_major": 2,
       "version_minor": 0
      },
      "text/plain": [
       "Canvas(toolbar=Toolbar(toolitems=[('Home', 'Reset original view', 'home', 'home'), ('Back', 'Back to previous …"
      ]
     },
     "metadata": {},
     "output_type": "display_data"
    },
    {
     "data": {
      "text/plain": [
       "<mpl_toolkits.mplot3d.art3d.Path3DCollection at 0x7faa27888710>"
      ]
     },
     "execution_count": 24,
     "metadata": {},
     "output_type": "execute_result"
    }
   ],
   "source": [
    "\n",
    "labels_pred_optics = clf_optics.fit_predict(df1.iloc[:,:3])\n",
    "\n",
    "for i in range(labels_pred_optics.size):\n",
    "    if labels_pred_optics[i] >= 0:\n",
    "        labels_pred_optics[i] = 1\n",
    "\n",
    "%matplotlib widget\n",
    "fig = plt.figure(figsize=(10,10))\n",
    "ax = fig.add_subplot(111, projection='3d')\n",
    "ax.scatter(df1.iloc[:,1],df1.iloc[:,2],df1.iloc[:,0], c=labels_pred_optics)"
   ]
  },
  {
   "cell_type": "markdown",
   "id": "running-butterfly",
   "metadata": {},
   "source": [
    "**4.4.4 ST-OPTICS**"
   ]
  },
  {
   "cell_type": "code",
   "execution_count": 25,
   "id": "monthly-unknown",
   "metadata": {},
   "outputs": [
    {
     "data": {
      "application/vnd.jupyter.widget-view+json": {
       "model_id": "1f50e9b7e8ef4ab4aa79609267cabb49",
       "version_major": 2,
       "version_minor": 0
      },
      "text/plain": [
       "Canvas(toolbar=Toolbar(toolitems=[('Home', 'Reset original view', 'home', 'home'), ('Back', 'Back to previous …"
      ]
     },
     "metadata": {},
     "output_type": "display_data"
    },
    {
     "data": {
      "text/plain": [
       "<mpl_toolkits.mplot3d.art3d.Path3DCollection at 0x7faa281019d0>"
      ]
     },
     "execution_count": 25,
     "metadata": {},
     "output_type": "execute_result"
    }
   ],
   "source": [
    "clf_st_optics.fit(df1.iloc[:,:3])\n",
    "\n",
    "labels_pred_stoptics = clf_st_optics.labels\n",
    "\n",
    "for i in range(labels_pred_stoptics.size):\n",
    "    if labels_pred_stoptics[i] >= 0:\n",
    "        labels_pred_stoptics[i] = 1\n",
    "\n",
    "%matplotlib widget\n",
    "fig = plt.figure(figsize=(10,10))\n",
    "ax = fig.add_subplot(111, projection='3d')\n",
    "ax.scatter(df1.iloc[:,1],df1.iloc[:,2],df1.iloc[:,0], c=labels_pred_stoptics)"
   ]
  },
  {
   "cell_type": "markdown",
   "id": "opponent-mailing",
   "metadata": {},
   "source": [
    "### 5. Evaluate models"
   ]
  },
  {
   "cell_type": "markdown",
   "id": "architectural-annotation",
   "metadata": {},
   "source": [
    "   **5.1 Silhouette Scores**"
   ]
  },
  {
   "cell_type": "code",
   "execution_count": 26,
   "id": "becoming-blackberry",
   "metadata": {},
   "outputs": [
    {
     "name": "stdout",
     "output_type": "stream",
     "text": [
      "Silhouette scores:\n",
      "DBSCAN: 0.004875167353651087\n",
      "ST-DBSCAN: 0.017654084873375348\n",
      "OPTICS: 0.007203188751228375\n",
      "ST-OPTICS: -0.01743249133026968\n"
     ]
    }
   ],
   "source": [
    "# Silhouette score DBSCAN\n",
    "ss_dbscan = silhouette_score(df1.iloc[:,:3],labels_pred_dbscan)\n",
    "\n",
    "# Silhouette score ST-DBSCAN\n",
    "ss_stdbscan = silhouette_score(df1.iloc[:,:3],labels_pred_stdbscan)\n",
    "\n",
    "# Silhouette score OPTICS\n",
    "ss_optics = silhouette_score(df1.iloc[:,:3],labels_pred_optics)\n",
    "\n",
    "# Silhouette score ST-OPTICS\n",
    "ss_stoptics = silhouette_score(df1.iloc[:,:3],labels_pred_stoptics)\n",
    "print(f\"Silhouette scores:\\nDBSCAN: {ss_dbscan}\\nST-DBSCAN: {ss_stdbscan}\\nOPTICS: {ss_optics}\\nST-OPTICS: {ss_stoptics}\")"
   ]
  },
  {
   "cell_type": "markdown",
   "id": "cooked-mauritius",
   "metadata": {},
   "source": [
    "   **5.2 Accuracy in respect to hand-labeled data from Dataset 1**"
   ]
  },
  {
   "cell_type": "code",
   "execution_count": 33,
   "id": "clean-helmet",
   "metadata": {},
   "outputs": [
    {
     "data": {
      "text/plain": [
       "0.7538644470868014"
      ]
     },
     "execution_count": 33,
     "metadata": {},
     "output_type": "execute_result"
    }
   ],
   "source": [
    "#Preprocessing Dataset 1\n",
    "x = df2.iloc[:,1].to_numpy()\n",
    "y = df2.iloc[:,2].to_numpy()\n",
    "ts = df2.iloc[:,0].to_numpy()\n",
    "labels = df2.iloc[:,3].to_numpy()\n",
    "\n",
    "predics = labels\n",
    "\n",
    "# Decoding labels to binary values\n",
    "\n",
    "for i in range(predics.size):\n",
    "    if predics[i] == \"fixation\":\n",
    "        predics[i] = 1\n",
    "    if predics[i] == \"saccade\":\n",
    "        predics[i] = 0\n",
    "\n",
    "\n",
    "        \n",
    "# Converting labels to integers\n",
    "y_true = predics.astype(int)\n",
    "\n",
    "# Fitting to ST-OPTICS with Dataset 1\n",
    "clf_st_optics.fit(df2.iloc[:,:3])\n",
    "\n",
    "y_pred = clf_st_optics.labels\n",
    "\n",
    "\n",
    "for i in range(y_pred.size):\n",
    "    if y_pred[i] >= 0:\n",
    "        y_pred[i] = 1\n",
    "    elif y_pred[i] <= 0:\n",
    "        y_pred[i] = 0\n",
    "\n",
    "        \n",
    "\n",
    "acc = accuracy_score(y_t, y_pred)\n",
    "acc\n"
   ]
  },
  {
   "cell_type": "markdown",
   "id": "white-graham",
   "metadata": {},
   "source": [
    "### 6. Conclusions "
   ]
  },
  {
   "cell_type": "code",
   "execution_count": 32,
   "id": "antique-immigration",
   "metadata": {},
   "outputs": [
    {
     "data": {
      "text/html": [
       "<div>\n",
       "<style scoped>\n",
       "    .dataframe tbody tr th:only-of-type {\n",
       "        vertical-align: middle;\n",
       "    }\n",
       "\n",
       "    .dataframe tbody tr th {\n",
       "        vertical-align: top;\n",
       "    }\n",
       "\n",
       "    .dataframe thead th {\n",
       "        text-align: right;\n",
       "    }\n",
       "</style>\n",
       "<table border=\"1\" class=\"dataframe\">\n",
       "  <thead>\n",
       "    <tr style=\"text-align: right;\">\n",
       "      <th></th>\n",
       "      <th>timestamp</th>\n",
       "      <th>x</th>\n",
       "      <th>y</th>\n",
       "      <th>label</th>\n",
       "      <th>ml-labels</th>\n",
       "    </tr>\n",
       "  </thead>\n",
       "  <tbody>\n",
       "    <tr>\n",
       "      <th>0</th>\n",
       "      <td>0</td>\n",
       "      <td>739.023953</td>\n",
       "      <td>417.475902</td>\n",
       "      <td>1</td>\n",
       "      <td>0</td>\n",
       "    </tr>\n",
       "    <tr>\n",
       "      <th>1</th>\n",
       "      <td>38</td>\n",
       "      <td>707.481049</td>\n",
       "      <td>444.210737</td>\n",
       "      <td>1</td>\n",
       "      <td>0</td>\n",
       "    </tr>\n",
       "    <tr>\n",
       "      <th>2</th>\n",
       "      <td>82</td>\n",
       "      <td>713.926225</td>\n",
       "      <td>445.593758</td>\n",
       "      <td>1</td>\n",
       "      <td>1</td>\n",
       "    </tr>\n",
       "    <tr>\n",
       "      <th>3</th>\n",
       "      <td>127</td>\n",
       "      <td>704.775582</td>\n",
       "      <td>469.488595</td>\n",
       "      <td>1</td>\n",
       "      <td>1</td>\n",
       "    </tr>\n",
       "    <tr>\n",
       "      <th>4</th>\n",
       "      <td>165</td>\n",
       "      <td>704.159921</td>\n",
       "      <td>476.988842</td>\n",
       "      <td>1</td>\n",
       "      <td>1</td>\n",
       "    </tr>\n",
       "    <tr>\n",
       "      <th>...</th>\n",
       "      <td>...</td>\n",
       "      <td>...</td>\n",
       "      <td>...</td>\n",
       "      <td>...</td>\n",
       "      <td>...</td>\n",
       "    </tr>\n",
       "    <tr>\n",
       "      <th>836</th>\n",
       "      <td>36449</td>\n",
       "      <td>610.012227</td>\n",
       "      <td>260.745510</td>\n",
       "      <td>0</td>\n",
       "      <td>0</td>\n",
       "    </tr>\n",
       "    <tr>\n",
       "      <th>837</th>\n",
       "      <td>36499</td>\n",
       "      <td>677.415175</td>\n",
       "      <td>327.846551</td>\n",
       "      <td>0</td>\n",
       "      <td>0</td>\n",
       "    </tr>\n",
       "    <tr>\n",
       "      <th>838</th>\n",
       "      <td>36541</td>\n",
       "      <td>674.590945</td>\n",
       "      <td>369.156196</td>\n",
       "      <td>0</td>\n",
       "      <td>0</td>\n",
       "    </tr>\n",
       "    <tr>\n",
       "      <th>839</th>\n",
       "      <td>36582</td>\n",
       "      <td>671.668082</td>\n",
       "      <td>416.032663</td>\n",
       "      <td>1</td>\n",
       "      <td>0</td>\n",
       "    </tr>\n",
       "    <tr>\n",
       "      <th>840</th>\n",
       "      <td>36619</td>\n",
       "      <td>684.261518</td>\n",
       "      <td>428.946405</td>\n",
       "      <td>1</td>\n",
       "      <td>0</td>\n",
       "    </tr>\n",
       "  </tbody>\n",
       "</table>\n",
       "<p>841 rows × 5 columns</p>\n",
       "</div>"
      ],
      "text/plain": [
       "     timestamp           x           y label  ml-labels\n",
       "0            0  739.023953  417.475902     1          0\n",
       "1           38  707.481049  444.210737     1          0\n",
       "2           82  713.926225  445.593758     1          1\n",
       "3          127  704.775582  469.488595     1          1\n",
       "4          165  704.159921  476.988842     1          1\n",
       "..         ...         ...         ...   ...        ...\n",
       "836      36449  610.012227  260.745510     0          0\n",
       "837      36499  677.415175  327.846551     0          0\n",
       "838      36541  674.590945  369.156196     0          0\n",
       "839      36582  671.668082  416.032663     1          0\n",
       "840      36619  684.261518  428.946405     1          0\n",
       "\n",
       "[841 rows x 5 columns]"
      ]
     },
     "execution_count": 32,
     "metadata": {},
     "output_type": "execute_result"
    }
   ],
   "source": [
    "df2[\"ml-labels\"] = y_pred\n",
    "\n",
    "df2"
   ]
  },
  {
   "cell_type": "markdown",
   "id": "posted-watch",
   "metadata": {},
   "source": [
    "### 7. References"
   ]
  },
  {
   "cell_type": "markdown",
   "id": "educational-season",
   "metadata": {},
   "source": [
    "1. Ankerst, M., Breunig, M. M., Kriegel, H. P., & Sander, J. (1999). OPTICS: ordering points to identify the clustering structure. ACM Sigmod record, 28(2), 49-60.\n",
    "2. Birant, Derya, and Alp Kut. (2007) \"ST-DBSCAN: An algorithm for clustering spatial–temporal data.\" Data & Knowledge Engineering 60.1: 208-221.\n",
    "3. Ester, M., H. P. Kriegel, J. Sander, and X. Xu, (1996) \"A Density-Based Algorithm for Discovering Clusters in Large Spatial Databases with Noise\". In: Proceedings of the 2nd International Conference on Knowledge Discovery and Data Mining, Portland, OR, AAAI Press, pp. 226-231.\n",
    "4. Peca, I., Fuchs, G., Vrotsou, K., Andrienko, N. V., & Andrienko, G. L. (2012). Scalable Cluster Analysis of Spatial Events. In EuroVA@ EuroVis.\n",
    "5. Schreiber, D. (2020) \"Klassifizierung von okulomotorischen Ereignissen (Fixierungen und Sakkaden)in webcam-basierten Eye-Tracking Daten\". Martin-Luther-Univeristy Halle-Wittenberg. \n",
    "6. Zemblys, Raimondas, et al. (2018)\"Using machine learning to detect events in eye-tracking data.\" Behavior research methods 50.1 : 160-181."
   ]
  },
  {
   "cell_type": "code",
   "execution_count": null,
   "id": "statutory-vertex",
   "metadata": {},
   "outputs": [],
   "source": []
  }
 ],
 "metadata": {
  "kernelspec": {
   "display_name": "Python 3",
   "language": "python",
   "name": "python3"
  },
  "language_info": {
   "codemirror_mode": {
    "name": "ipython",
    "version": 3
   },
   "file_extension": ".py",
   "mimetype": "text/x-python",
   "name": "python",
   "nbconvert_exporter": "python",
   "pygments_lexer": "ipython3",
   "version": "3.7.9"
  }
 },
 "nbformat": 4,
 "nbformat_minor": 5
}
