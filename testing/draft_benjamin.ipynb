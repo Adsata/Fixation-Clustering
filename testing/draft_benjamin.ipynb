{
 "cells": [
  {
   "cell_type": "markdown",
   "metadata": {},
   "source": [
    "# GazeClusterML\n",
    "\n",
    "### Authored by: Taimur Khan, Benjamin Nava Höer\n",
    "***Final Project for TU Berlin WU'20 course: Machine Learning using Python: Theory and Application**\n",
    "\n",
    "___**Licensed under:**___"
   ]
  },
  {
   "cell_type": "markdown",
   "metadata": {},
   "source": [
    "### 1. Abstract"
   ]
  },
  {
   "cell_type": "markdown",
   "metadata": {},
   "source": [
    "An unlabelled dataset of an eyetracking timeseries was clustered using the spatial clustering algorithms DBSCAN and OPTICS, as well as the spatio-temporal clustering algorithms ST-DBSCAN and ST-OPTICS. The silhouette score was not found to be the appropriate evaluation metric for the obtained clusterings. A second, manually labelled dataset was used to evaluate the accuracy of the most promising algorithm ST-OPTICS. XX% of the predicted labels matched the provided labels, making ST-OPTICS a valuable tool for the future analysis of webcam-based eyetracking data."
   ]
  },
  {
   "cell_type": "markdown",
   "metadata": {},
   "source": [
    "### 2. Introduction"
   ]
  },
  {
   "cell_type": "code",
   "execution_count": null,
   "metadata": {},
   "outputs": [],
   "source": []
  },
  {
   "cell_type": "markdown",
   "metadata": {},
   "source": [
    "### 3. Theoretical Rationalization"
   ]
  },
  {
   "cell_type": "markdown",
   "metadata": {},
   "source": [
    "#### 3.1 DBSCAN\n",
    "DBSCAN discovers arbitrarily shaped clusters in a dataset using a radius value $\\epsilon$ based on a user defined distance measure, i.e. euclidean. Additionally, a MinPts value defines the minimal number of points that should occur within $\\epsilon$ radius. Given the neighborhood of $p$ as $N(p) := \\{q \\in D: d(p,q) \\leq \\epsilon\\}$ with $D := dataset$ and $p$ and $q$ as points therein, this leads to the following three kinds of points:\n",
    "- Core points: $\\mid N(p)\\mid \\geq MinPts$\n",
    "- Border points: $\\mid N(p)\\mid < MinPts$\n",
    "- Else: Noise\n",
    "\n",
    "Reference x\n",
    "#### 3.3 ST-DBSCAN\n",
    "ST-DBSCAN extends builds on DBSCAN by adding a second, temporal radius value $\\epsilon_{2}$. Analogous distance metrics as for $\\epsilon$ can be used, i.e. euclidean. The neighborhood of a point is now described by both $\\epsilon$ and $\\epsilon_{2}$: $N(p) := \\{q \\in D: d_{1}(p,q) \\leq \\epsilon_{1},d_{2}(p,q) \\leq \\epsilon_{2}\\}$. Thereupon the points in the dataset will be classified according to the above mentioned categories.\n",
    "Reference y"
   ]
  },
  {
   "cell_type": "markdown",
   "metadata": {},
   "source": [
    "### 4. Implementation"
   ]
  },
  {
   "cell_type": "markdown",
   "metadata": {},
   "source": [
    "**4.0. Setup Environment**"
   ]
  },
  {
   "cell_type": "code",
   "execution_count": 17,
   "metadata": {},
   "outputs": [
    {
     "name": "stdout",
     "output_type": "stream",
     "text": [
      "Requirement already satisfied: st-dbscan in d:\\anaconda\\lib\\site-packages (0.1.5)\n",
      "Requirement already satisfied: numpy>=1.16.4 in d:\\anaconda\\lib\\site-packages (from st-dbscan) (1.19.2)\n",
      "Requirement already satisfied: ipympl in d:\\anaconda\\lib\\site-packages (0.6.3)\n",
      "Requirement already satisfied: ipywidgets>=7.6.0 in d:\\anaconda\\lib\\site-packages (from ipympl) (7.6.3)\n",
      "Requirement already satisfied: ipykernel>=4.7 in d:\\anaconda\\lib\\site-packages (from ipympl) (5.3.4)\n",
      "Requirement already satisfied: matplotlib>=2.0.0 in d:\\anaconda\\lib\\site-packages (from ipympl) (3.3.2)\n",
      "Requirement already satisfied: widgetsnbextension~=3.5.0 in d:\\anaconda\\lib\\site-packages (from ipywidgets>=7.6.0->ipympl) (3.5.1)\n",
      "Requirement already satisfied: ipython>=4.0.0; python_version >= \"3.3\" in d:\\anaconda\\lib\\site-packages (from ipywidgets>=7.6.0->ipympl) (7.19.0)\n",
      "Requirement already satisfied: jupyterlab-widgets>=1.0.0; python_version >= \"3.6\" in d:\\anaconda\\lib\\site-packages (from ipywidgets>=7.6.0->ipympl) (1.0.0)\n",
      "Requirement already satisfied: nbformat>=4.2.0 in d:\\anaconda\\lib\\site-packages (from ipywidgets>=7.6.0->ipympl) (5.0.8)\n",
      "Requirement already satisfied: traitlets>=4.3.1 in d:\\anaconda\\lib\\site-packages (from ipywidgets>=7.6.0->ipympl) (5.0.5)\n",
      "Requirement already satisfied: jupyter-client in d:\\anaconda\\lib\\site-packages (from ipykernel>=4.7->ipympl) (6.1.7)\n",
      "Requirement already satisfied: tornado>=4.2 in d:\\anaconda\\lib\\site-packages (from ipykernel>=4.7->ipympl) (6.0.4)\n",
      "Requirement already satisfied: python-dateutil>=2.1 in d:\\anaconda\\lib\\site-packages (from matplotlib>=2.0.0->ipympl) (2.8.1)\n",
      "Requirement already satisfied: numpy>=1.15 in d:\\anaconda\\lib\\site-packages (from matplotlib>=2.0.0->ipympl) (1.19.2)\n",
      "Requirement already satisfied: pillow>=6.2.0 in d:\\anaconda\\lib\\site-packages (from matplotlib>=2.0.0->ipympl) (8.0.1)\n",
      "Requirement already satisfied: pyparsing!=2.0.4,!=2.1.2,!=2.1.6,>=2.0.3 in d:\\anaconda\\lib\\site-packages (from matplotlib>=2.0.0->ipympl) (2.4.7)\n",
      "Requirement already satisfied: cycler>=0.10 in d:\\anaconda\\lib\\site-packages (from matplotlib>=2.0.0->ipympl) (0.10.0)\n",
      "Requirement already satisfied: certifi>=2020.06.20 in d:\\anaconda\\lib\\site-packages (from matplotlib>=2.0.0->ipympl) (2020.6.20)\n",
      "Requirement already satisfied: kiwisolver>=1.0.1 in d:\\anaconda\\lib\\site-packages (from matplotlib>=2.0.0->ipympl) (1.3.0)\n",
      "Requirement already satisfied: notebook>=4.4.1 in d:\\anaconda\\lib\\site-packages (from widgetsnbextension~=3.5.0->ipywidgets>=7.6.0->ipympl) (6.1.4)\n",
      "Requirement already satisfied: jedi>=0.10 in d:\\anaconda\\lib\\site-packages (from ipython>=4.0.0; python_version >= \"3.3\"->ipywidgets>=7.6.0->ipympl) (0.17.1)\n",
      "Requirement already satisfied: prompt-toolkit!=3.0.0,!=3.0.1,<3.1.0,>=2.0.0 in d:\\anaconda\\lib\\site-packages (from ipython>=4.0.0; python_version >= \"3.3\"->ipywidgets>=7.6.0->ipympl) (3.0.8)\n",
      "Requirement already satisfied: colorama; sys_platform == \"win32\" in d:\\anaconda\\lib\\site-packages (from ipython>=4.0.0; python_version >= \"3.3\"->ipywidgets>=7.6.0->ipympl) (0.4.4)\n",
      "Requirement already satisfied: decorator in d:\\anaconda\\lib\\site-packages (from ipython>=4.0.0; python_version >= \"3.3\"->ipywidgets>=7.6.0->ipympl) (4.4.2)\n",
      "Requirement already satisfied: backcall in d:\\anaconda\\lib\\site-packages (from ipython>=4.0.0; python_version >= \"3.3\"->ipywidgets>=7.6.0->ipympl) (0.2.0)\n",
      "Requirement already satisfied: pickleshare in d:\\anaconda\\lib\\site-packages (from ipython>=4.0.0; python_version >= \"3.3\"->ipywidgets>=7.6.0->ipympl) (0.7.5)\n",
      "Requirement already satisfied: pygments in d:\\anaconda\\lib\\site-packages (from ipython>=4.0.0; python_version >= \"3.3\"->ipywidgets>=7.6.0->ipympl) (2.7.2)\n",
      "Requirement already satisfied: setuptools>=18.5 in d:\\anaconda\\lib\\site-packages (from ipython>=4.0.0; python_version >= \"3.3\"->ipywidgets>=7.6.0->ipympl) (50.3.1.post20201107)\n",
      "Requirement already satisfied: jupyter-core in d:\\anaconda\\lib\\site-packages (from nbformat>=4.2.0->ipywidgets>=7.6.0->ipympl) (4.6.3)\n",
      "Requirement already satisfied: ipython-genutils in d:\\anaconda\\lib\\site-packages (from nbformat>=4.2.0->ipywidgets>=7.6.0->ipympl) (0.2.0)\n",
      "Requirement already satisfied: jsonschema!=2.5.0,>=2.4 in d:\\anaconda\\lib\\site-packages (from nbformat>=4.2.0->ipywidgets>=7.6.0->ipympl) (3.2.0)\n",
      "Requirement already satisfied: pyzmq>=13 in d:\\anaconda\\lib\\site-packages (from jupyter-client->ipykernel>=4.7->ipympl) (19.0.2)\n",
      "Requirement already satisfied: six>=1.5 in d:\\anaconda\\lib\\site-packages (from python-dateutil>=2.1->matplotlib>=2.0.0->ipympl) (1.15.0)\n",
      "Requirement already satisfied: Send2Trash in d:\\anaconda\\lib\\site-packages (from notebook>=4.4.1->widgetsnbextension~=3.5.0->ipywidgets>=7.6.0->ipympl) (1.5.0)\n",
      "Requirement already satisfied: argon2-cffi in d:\\anaconda\\lib\\site-packages (from notebook>=4.4.1->widgetsnbextension~=3.5.0->ipywidgets>=7.6.0->ipympl) (20.1.0)\n",
      "Requirement already satisfied: terminado>=0.8.3 in d:\\anaconda\\lib\\site-packages (from notebook>=4.4.1->widgetsnbextension~=3.5.0->ipywidgets>=7.6.0->ipympl) (0.9.1)\n",
      "Requirement already satisfied: jinja2 in d:\\anaconda\\lib\\site-packages (from notebook>=4.4.1->widgetsnbextension~=3.5.0->ipywidgets>=7.6.0->ipympl) (2.11.2)\n",
      "Requirement already satisfied: prometheus-client in d:\\anaconda\\lib\\site-packages (from notebook>=4.4.1->widgetsnbextension~=3.5.0->ipywidgets>=7.6.0->ipympl) (0.8.0)\n",
      "Requirement already satisfied: nbconvert in d:\\anaconda\\lib\\site-packages (from notebook>=4.4.1->widgetsnbextension~=3.5.0->ipywidgets>=7.6.0->ipympl) (6.0.7)\n",
      "Requirement already satisfied: parso<0.8.0,>=0.7.0 in d:\\anaconda\\lib\\site-packages (from jedi>=0.10->ipython>=4.0.0; python_version >= \"3.3\"->ipywidgets>=7.6.0->ipympl) (0.7.0)\n",
      "Requirement already satisfied: wcwidth in d:\\anaconda\\lib\\site-packages (from prompt-toolkit!=3.0.0,!=3.0.1,<3.1.0,>=2.0.0->ipython>=4.0.0; python_version >= \"3.3\"->ipywidgets>=7.6.0->ipympl) (0.2.5)\n",
      "Requirement already satisfied: pywin32>=1.0; sys_platform == \"win32\" in d:\\anaconda\\lib\\site-packages (from jupyter-core->nbformat>=4.2.0->ipywidgets>=7.6.0->ipympl) (227)\n",
      "Requirement already satisfied: attrs>=17.4.0 in d:\\anaconda\\lib\\site-packages (from jsonschema!=2.5.0,>=2.4->nbformat>=4.2.0->ipywidgets>=7.6.0->ipympl) (20.3.0)\n",
      "Requirement already satisfied: pyrsistent>=0.14.0 in d:\\anaconda\\lib\\site-packages (from jsonschema!=2.5.0,>=2.4->nbformat>=4.2.0->ipywidgets>=7.6.0->ipympl) (0.17.3)\n",
      "Requirement already satisfied: cffi>=1.0.0 in d:\\anaconda\\lib\\site-packages (from argon2-cffi->notebook>=4.4.1->widgetsnbextension~=3.5.0->ipywidgets>=7.6.0->ipympl) (1.14.3)\n",
      "Requirement already satisfied: pywinpty>=0.5 in d:\\anaconda\\lib\\site-packages (from terminado>=0.8.3->notebook>=4.4.1->widgetsnbextension~=3.5.0->ipywidgets>=7.6.0->ipympl) (0.5.7)\n",
      "Requirement already satisfied: MarkupSafe>=0.23 in d:\\anaconda\\lib\\site-packages (from jinja2->notebook>=4.4.1->widgetsnbextension~=3.5.0->ipywidgets>=7.6.0->ipympl) (1.1.1)\n",
      "Requirement already satisfied: mistune<2,>=0.8.1 in d:\\anaconda\\lib\\site-packages (from nbconvert->notebook>=4.4.1->widgetsnbextension~=3.5.0->ipywidgets>=7.6.0->ipympl) (0.8.4)\n",
      "Requirement already satisfied: defusedxml in d:\\anaconda\\lib\\site-packages (from nbconvert->notebook>=4.4.1->widgetsnbextension~=3.5.0->ipywidgets>=7.6.0->ipympl) (0.6.0)\n",
      "Requirement already satisfied: jupyterlab-pygments in d:\\anaconda\\lib\\site-packages (from nbconvert->notebook>=4.4.1->widgetsnbextension~=3.5.0->ipywidgets>=7.6.0->ipympl) (0.1.2)\n",
      "Requirement already satisfied: pandocfilters>=1.4.1 in d:\\anaconda\\lib\\site-packages (from nbconvert->notebook>=4.4.1->widgetsnbextension~=3.5.0->ipywidgets>=7.6.0->ipympl) (1.4.3)\n",
      "Requirement already satisfied: entrypoints>=0.2.2 in d:\\anaconda\\lib\\site-packages (from nbconvert->notebook>=4.4.1->widgetsnbextension~=3.5.0->ipywidgets>=7.6.0->ipympl) (0.3)\n",
      "Requirement already satisfied: bleach in d:\\anaconda\\lib\\site-packages (from nbconvert->notebook>=4.4.1->widgetsnbextension~=3.5.0->ipywidgets>=7.6.0->ipympl) (3.2.1)\n",
      "Requirement already satisfied: testpath in d:\\anaconda\\lib\\site-packages (from nbconvert->notebook>=4.4.1->widgetsnbextension~=3.5.0->ipywidgets>=7.6.0->ipympl) (0.4.4)\n",
      "Requirement already satisfied: nbclient<0.6.0,>=0.5.0 in d:\\anaconda\\lib\\site-packages (from nbconvert->notebook>=4.4.1->widgetsnbextension~=3.5.0->ipywidgets>=7.6.0->ipympl) (0.5.1)\n",
      "Requirement already satisfied: pycparser in d:\\anaconda\\lib\\site-packages (from cffi>=1.0.0->argon2-cffi->notebook>=4.4.1->widgetsnbextension~=3.5.0->ipywidgets>=7.6.0->ipympl) (2.20)\n",
      "Requirement already satisfied: packaging in d:\\anaconda\\lib\\site-packages (from bleach->nbconvert->notebook>=4.4.1->widgetsnbextension~=3.5.0->ipywidgets>=7.6.0->ipympl) (20.4)\n",
      "Requirement already satisfied: webencodings in d:\\anaconda\\lib\\site-packages (from bleach->nbconvert->notebook>=4.4.1->widgetsnbextension~=3.5.0->ipywidgets>=7.6.0->ipympl) (0.5.1)\n",
      "Requirement already satisfied: async-generator in d:\\anaconda\\lib\\site-packages (from nbclient<0.6.0,>=0.5.0->nbconvert->notebook>=4.4.1->widgetsnbextension~=3.5.0->ipywidgets>=7.6.0->ipympl) (1.10)\n",
      "Requirement already satisfied: nest-asyncio in d:\\anaconda\\lib\\site-packages (from nbclient<0.6.0,>=0.5.0->nbconvert->notebook>=4.4.1->widgetsnbextension~=3.5.0->ipywidgets>=7.6.0->ipympl) (1.4.2)\n"
     ]
    }
   ],
   "source": [
    "import json\n",
    "import urllib.request\n",
    "import pandas as pd\n",
    "import numpy as np\n",
    "import matplotlib.pyplot as plt\n",
    "from sklearn.cluster import DBSCAN\n",
    "!pip install st-dbscan\n",
    "from st_dbscan import ST_DBSCAN\n",
    "!pip install ipympl\n",
    "from mpl_toolkits.mplot3d import Axes3D\n",
    "from sklearn.metrics import silhouette_score"
   ]
  },
  {
   "cell_type": "markdown",
   "metadata": {},
   "source": [
    "**4.1. Load and explore data**"
   ]
  },
  {
   "cell_type": "code",
   "execution_count": 2,
   "metadata": {},
   "outputs": [
    {
     "data": {
      "text/plain": [
       "(     timestamp            x           y     label\n",
       " 0       102708   986.288075  508.004755  Fixation\n",
       " 1       102781  1005.492167  495.522600  Fixation\n",
       " 2       102842   942.353008  492.123891  Fixation\n",
       " 3       102893   948.193646  474.714589  Fixation\n",
       " 4       102943   938.728917  481.875697  Fixation\n",
       " ..         ...          ...         ...       ...\n",
       " 968     163046   904.812802  246.252619   Saccade\n",
       " 969     163105   861.176955  262.574859  Fixation\n",
       " 970     163155   732.960155  276.037371  Fixation\n",
       " 971     163239   635.075056  295.309572   Saccade\n",
       " 972     163289   618.075163  313.958367  Fixation\n",
       " \n",
       " [973 rows x 4 columns],\n",
       "      timestamp           x           y     label\n",
       " 0        39342  739.023953  417.475902  fixation\n",
       " 1        39380  707.481049  444.210737  fixation\n",
       " 2        39424  713.926225  445.593758  fixation\n",
       " 3        39469  704.775582  469.488595  fixation\n",
       " 4        39507  704.159921  476.988842  fixation\n",
       " ..         ...         ...         ...       ...\n",
       " 836      75791  610.012227  260.745510   saccade\n",
       " 837      75841  677.415175  327.846551   saccade\n",
       " 838      75883  674.590945  369.156196   saccade\n",
       " 839      75924  671.668082  416.032663  fixation\n",
       " 840      75961  684.261518  428.946405  fixation\n",
       " \n",
       " [841 rows x 4 columns])"
      ]
     },
     "execution_count": 2,
     "metadata": {},
     "output_type": "execute_result"
    }
   ],
   "source": [
    "# Loading first dataset and store in dataframe 'df1'\n",
    "url1 = urllib.request.urlopen(\"http://dschr.de/api/resultCombineData\")\n",
    "data1 = json.loads(url1.read().decode())\n",
    "df1 = pd.DataFrame(data1[0][\"data\"])\n",
    "\n",
    "# Loading second dataset and store in dataframe 'df2'\n",
    "url2 = urllib.request.urlopen(\"http://dschr.de/api/handLabeled\")\n",
    "data2 = json.loads(url2.read().decode())\n",
    "df2 = pd.DataFrame(data2[0][\"data\"])\n",
    "\n",
    "\n",
    "df1, df2"
   ]
  },
  {
   "cell_type": "markdown",
   "metadata": {},
   "source": [
    "**4.2. Preprocess data**"
   ]
  },
  {
   "cell_type": "code",
   "execution_count": 3,
   "metadata": {},
   "outputs": [
    {
     "data": {
      "text/plain": [
       "(array([[0, 986.2880749379, 508.0047550332, 'Fixation'],\n",
       "        [73, 1005.4921671685, 495.5226000186, 'Fixation'],\n",
       "        [134, 942.3530079831, 492.1238913635, 'Fixation'],\n",
       "        ...,\n",
       "        [60447, 732.960154917, 276.0373709741, 'Fixation'],\n",
       "        [60531, 635.0750563979, 295.3095717554, 'Saccade'],\n",
       "        [60581, 618.0751626144, 313.9583669145, 'Fixation']], dtype=object),\n",
       " array([[0, 739.0239530773961, 417.4759015313773, 'fixation'],\n",
       "        [38, 707.4810489651718, 444.2107367829889, 'fixation'],\n",
       "        [82, 713.9262252699162, 445.593757589654, 'fixation'],\n",
       "        ...,\n",
       "        [36541, 674.5909449373224, 369.15619639448806, 'saccade'],\n",
       "        [36582, 671.6680822153079, 416.0326625889876, 'fixation'],\n",
       "        [36619, 684.2615176944689, 428.94640490405294, 'fixation']],\n",
       "       dtype=object))"
      ]
     },
     "execution_count": 3,
     "metadata": {},
     "output_type": "execute_result"
    }
   ],
   "source": [
    "# setting timestamps in both dataframes to start at 0\n",
    "df1['timestamp'] = df1['timestamp'].apply(lambda x: x - df1['timestamp'][0]) \n",
    "df2['timestamp'] = df2['timestamp'].apply(lambda x: x - df2['timestamp'][0])\n",
    "\n",
    "#Convert dataframes to numpy arrays\n",
    "array1 = df1.to_numpy()\n",
    "array2 = df2.to_numpy()\n",
    "\n",
    "array1, array2"
   ]
  },
  {
   "cell_type": "markdown",
   "metadata": {},
   "source": [
    "**4.3. Choose and implement model**"
   ]
  },
  {
   "cell_type": "code",
   "execution_count": 13,
   "metadata": {},
   "outputs": [],
   "source": [
    "# Setup DBSCAN classifier\n",
    "eps_dbscan=150\n",
    "min_samples_dbscan=5\n",
    "clf_dbscan = DBSCAN(eps=eps_dbscan, min_samples=min_samples_dbscan, metric='euclidean', algorithm='auto', leaf_size=30, p=2, n_jobs=1)\n",
    "\n",
    "# Setup ST-DBSCAN classifier\n",
    "eps_stdbscan=70\n",
    "eps2_stdbscan=250\n",
    "min_samples_stdbscan=5\n",
    "clf_st_dbscan = ST_DBSCAN(eps1=eps_stdbscan, eps2=eps2_stdbscan, min_samples=min_samples_stdbscan)        "
   ]
  },
  {
   "cell_type": "markdown",
   "metadata": {},
   "source": [
    "**4.4. Train model and predict labels**"
   ]
  },
  {
   "cell_type": "markdown",
   "metadata": {},
   "source": [
    "##### 4.4.1 DBSCAN"
   ]
  },
  {
   "cell_type": "code",
   "execution_count": 16,
   "metadata": {
    "scrolled": false
   },
   "outputs": [
    {
     "data": {
      "application/vnd.jupyter.widget-view+json": {
       "model_id": "2eabe02f328249a4a8eb2901a9a77771",
       "version_major": 2,
       "version_minor": 0
      },
      "text/plain": [
       "Canvas(toolbar=Toolbar(toolitems=[('Home', 'Reset original view', 'home', 'home'), ('Back', 'Back to previous …"
      ]
     },
     "metadata": {},
     "output_type": "display_data"
    },
    {
     "data": {
      "text/plain": [
       "<mpl_toolkits.mplot3d.art3d.Path3DCollection at 0x1e09ff5f640>"
      ]
     },
     "execution_count": 16,
     "metadata": {},
     "output_type": "execute_result"
    }
   ],
   "source": [
    "clf_dbscan.fit(df1.iloc[:,:3])\n",
    "\n",
    "labels_pred_dbscan = clf_dbscan.labels_\n",
    "\n",
    "for i in range(labels_pred_dbscan.size):\n",
    "    if labels_pred_dbscan[i] >= 0:\n",
    "        labels_pred_dbscan[i] = 1\n",
    "\n",
    "          \n",
    "%matplotlib widget\n",
    "fig = plt.figure(figsize=(10,10))\n",
    "ax = fig.add_subplot(111, projection='3d')\n",
    "ax.scatter(df1.iloc[:,1],df1.iloc[:,2],df1.iloc[:,0], c=labels_pred_dbscan)"
   ]
  },
  {
   "cell_type": "markdown",
   "metadata": {},
   "source": [
    "##### 4.4.1 ST-DBSCAN"
   ]
  },
  {
   "cell_type": "code",
   "execution_count": 15,
   "metadata": {},
   "outputs": [
    {
     "data": {
      "application/vnd.jupyter.widget-view+json": {
       "model_id": "3e0bf2f5166343d1a5476014a8e036bd",
       "version_major": 2,
       "version_minor": 0
      },
      "text/plain": [
       "Canvas(toolbar=Toolbar(toolitems=[('Home', 'Reset original view', 'home', 'home'), ('Back', 'Back to previous …"
      ]
     },
     "metadata": {},
     "output_type": "display_data"
    },
    {
     "data": {
      "text/plain": [
       "<mpl_toolkits.mplot3d.art3d.Path3DCollection at 0x1e09febca60>"
      ]
     },
     "execution_count": 15,
     "metadata": {},
     "output_type": "execute_result"
    }
   ],
   "source": [
    "clf_st_dbscan.fit(df1.iloc[:,:3])\n",
    "\n",
    "labels_pred_stdbscan = clf_st_dbscan.labels\n",
    "\n",
    "for i in range(labels_pred_stdbscan.size):\n",
    "    if labels_pred_stdbscan[i] >= 0:\n",
    "        labels_pred_stdbscan[i] = 1\n",
    "\n",
    "          \n",
    "%matplotlib widget\n",
    "fig = plt.figure(figsize=(10,10))\n",
    "ax = fig.add_subplot(111, projection='3d')\n",
    "ax.scatter(df1.iloc[:,1],df1.iloc[:,2],df1.iloc[:,0], c=labels_pred_stdbscan)"
   ]
  },
  {
   "cell_type": "markdown",
   "metadata": {},
   "source": [
    "**4.5. Evaluate model**"
   ]
  },
  {
   "cell_type": "code",
   "execution_count": 21,
   "metadata": {},
   "outputs": [
    {
     "name": "stdout",
     "output_type": "stream",
     "text": [
      "Silhouette scores:\n",
      "DBSCAN: 0.004875167353651087\n",
      "ST-DBSCAN: 0.017654084873375348\n"
     ]
    }
   ],
   "source": [
    "# Silhouette score DBSCAN\n",
    "ss_dbscan = silhouette_score(df1.iloc[:,:3],labels_pred_dbscan)\n",
    "# Silhouette score ST-DBSCAN\n",
    "ss_stdbscan = silhouette_score(df1.iloc[:,:3],labels_pred_stdbscan)\n",
    "print(f\"Silhouette scores:\\nDBSCAN: {ss_dbscan}\\nST-DBSCAN: {ss_stdbscan}\")"
   ]
  },
  {
   "cell_type": "markdown",
   "metadata": {},
   "source": [
    "### 5. Conclusions "
   ]
  },
  {
   "cell_type": "markdown",
   "metadata": {},
   "source": []
  },
  {
   "cell_type": "markdown",
   "metadata": {},
   "source": [
    "### 6. References"
   ]
  },
  {
   "cell_type": "markdown",
   "metadata": {},
   "source": []
  }
 ],
 "metadata": {
  "kernelspec": {
   "display_name": "Python 3",
   "language": "python",
   "name": "python3"
  },
  "language_info": {
   "codemirror_mode": {
    "name": "ipython",
    "version": 3
   },
   "file_extension": ".py",
   "mimetype": "text/x-python",
   "name": "python",
   "nbconvert_exporter": "python",
   "pygments_lexer": "ipython3",
   "version": "3.8.5"
  }
 },
 "nbformat": 4,
 "nbformat_minor": 5
}
