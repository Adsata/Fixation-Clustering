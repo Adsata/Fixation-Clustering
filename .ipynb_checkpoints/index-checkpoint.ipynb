{
 "cells": [
  {
   "cell_type": "markdown",
   "id": "popular-liabilities",
   "metadata": {},
   "source": [
    "# GazeClusterML\n",
    "\n",
    "### Authored by: Taimur Khan, Benjamin Nava Höer\n",
    "***Final Project for TU Berlin WU'20 course: Machine Learning using Python: Theory and Application**\n",
    "\n",
    "___**Licensed under:**___"
   ]
  },
  {
   "cell_type": "markdown",
   "id": "fatty-journal",
   "metadata": {},
   "source": [
    "### 1. Introduction"
   ]
  },
  {
   "cell_type": "code",
   "execution_count": null,
   "id": "violent-violation",
   "metadata": {},
   "outputs": [],
   "source": []
  },
  {
   "cell_type": "markdown",
   "id": "supported-viewer",
   "metadata": {},
   "source": [
    "### 2. Background"
   ]
  },
  {
   "cell_type": "code",
   "execution_count": null,
   "id": "assumed-serbia",
   "metadata": {},
   "outputs": [],
   "source": []
  },
  {
   "cell_type": "markdown",
   "id": "organic-success",
   "metadata": {},
   "source": [
    "### 3. Theoretical Rationalization"
   ]
  },
  {
   "cell_type": "code",
   "execution_count": null,
   "id": "judicial-baseline",
   "metadata": {},
   "outputs": [],
   "source": []
  },
  {
   "cell_type": "markdown",
   "id": "complimentary-temple",
   "metadata": {},
   "source": [
    "### 4. Implementation"
   ]
  },
  {
   "cell_type": "markdown",
   "id": "undefined-solution",
   "metadata": {},
   "source": [
    "**4.0. Setup Environment**"
   ]
  },
  {
   "cell_type": "code",
   "execution_count": null,
   "id": "coordinate-tower",
   "metadata": {},
   "outputs": [],
   "source": []
  },
  {
   "cell_type": "markdown",
   "id": "relative-priest",
   "metadata": {},
   "source": [
    "**4.1. Load and explore data**"
   ]
  },
  {
   "cell_type": "code",
   "execution_count": 2,
   "id": "computational-hydrogen",
   "metadata": {},
   "outputs": [
    {
     "name": "stdout",
     "output_type": "stream",
     "text": [
      "     timestamp     x    y     label\n",
      "0            0   521  441   saccade\n",
      "1           46   851  288   saccade\n",
      "2           92   969  334   saccade\n",
      "3          140  1109  238   saccade\n",
      "4          185   990  234   saccade\n",
      "..         ...   ...  ...       ...\n",
      "651      33714   759  398  fixation\n",
      "652      33764   752  112  fixation\n",
      "653      33816   805  326  fixation\n",
      "654      33867   565  312  fixation\n",
      "655      33917   714  289  fixation\n",
      "\n",
      "[656 rows x 4 columns]\n",
      "     timestamp     x     y     label\n",
      "0            0   612   335   saccade\n",
      "1           43   729   504   saccade\n",
      "2           84   765   210   saccade\n",
      "3          151   791   386   saccade\n",
      "4          219  1156   252   saccade\n",
      "..         ...   ...   ...       ...\n",
      "687      35010  2335  1719  fixation\n",
      "688      35067   903   489  fixation\n",
      "689      35112   740   524  fixation\n",
      "690      35159   261   439  fixation\n",
      "691      35203   464   537  fixation\n",
      "\n",
      "[692 rows x 4 columns]\n"
     ]
    }
   ],
   "source": [
    "# load data from the rest api\n",
    "import json\n",
    "import urllib.request\n",
    "import pandas\n",
    "\n",
    "url = urllib.request.urlopen(\"http://dschr.de/api/datasetControlled\")\n",
    "data = json.loads(url.read().decode())\n",
    "ts1 = pandas.DataFrame(data[0][\"data\"]) # time series 1\n",
    "ts2 = pandas.DataFrame(data[1][\"data\"]) # time series 2\n",
    "\n",
    "# setting timestamp to start by 0\n",
    "ts1['timestamp'] = ts1['timestamp'].apply(lambda x: x - ts1['timestamp'][0]) \n",
    "ts2['timestamp'] = ts2['timestamp'].apply(lambda x: x - ts2['timestamp'][0])\n",
    "\n",
    "print(ts1)\n",
    "print(ts2)"
   ]
  },
  {
   "cell_type": "markdown",
   "id": "working-friendly",
   "metadata": {},
   "source": [
    "**4.2. Preprocess data**"
   ]
  },
  {
   "cell_type": "code",
   "execution_count": null,
   "id": "stock-centre",
   "metadata": {},
   "outputs": [],
   "source": []
  },
  {
   "cell_type": "markdown",
   "id": "ignored-league",
   "metadata": {},
   "source": [
    "**4.3. Choose and implement model**"
   ]
  },
  {
   "cell_type": "code",
   "execution_count": null,
   "id": "exotic-lancaster",
   "metadata": {},
   "outputs": [],
   "source": []
  },
  {
   "cell_type": "markdown",
   "id": "reported-score",
   "metadata": {},
   "source": [
    "**4.4. Train model**"
   ]
  },
  {
   "cell_type": "code",
   "execution_count": null,
   "id": "outside-tours",
   "metadata": {},
   "outputs": [],
   "source": []
  },
  {
   "cell_type": "markdown",
   "id": "satisfactory-electronics",
   "metadata": {},
   "source": [
    "**4.5. Evaluate model**"
   ]
  },
  {
   "cell_type": "code",
   "execution_count": null,
   "id": "light-thunder",
   "metadata": {},
   "outputs": [],
   "source": []
  },
  {
   "cell_type": "markdown",
   "id": "sound-franchise",
   "metadata": {},
   "source": [
    "### 5. Conclusions "
   ]
  },
  {
   "cell_type": "markdown",
   "id": "nutritional-starter",
   "metadata": {},
   "source": [
    "### 6. References"
   ]
  },
  {
   "cell_type": "code",
   "execution_count": null,
   "id": "actual-devon",
   "metadata": {},
   "outputs": [],
   "source": []
  }
 ],
 "metadata": {
  "kernelspec": {
   "display_name": "Python 3",
   "language": "python",
   "name": "python3"
  },
  "language_info": {
   "codemirror_mode": {
    "name": "ipython",
    "version": 3
   },
   "file_extension": ".py",
   "mimetype": "text/x-python",
   "name": "python",
   "nbconvert_exporter": "python",
   "pygments_lexer": "ipython3",
   "version": "3.7.9"
  }
 },
 "nbformat": 4,
 "nbformat_minor": 5
}
