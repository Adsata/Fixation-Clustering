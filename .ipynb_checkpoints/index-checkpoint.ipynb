{
 "cells": [
  {
   "cell_type": "markdown",
   "id": "owned-doctor",
   "metadata": {},
   "source": [
    "# GazeClusterML\n",
    "\n",
    "### Authored by: Taimur Khan, Benjamin Nava Höer\n",
    "***Final Project for TU Berlin WU'20 course: Machine Learning using Python: Theory and Application**\n",
    "\n",
    "___**Licensed under:**___"
   ]
  },
  {
   "cell_type": "markdown",
   "id": "arctic-glory",
   "metadata": {},
   "source": [
    "### 1. Introduction"
   ]
  },
  {
   "cell_type": "code",
   "execution_count": null,
   "id": "solved-depression",
   "metadata": {},
   "outputs": [],
   "source": []
  },
  {
   "cell_type": "markdown",
   "id": "international-cleaning",
   "metadata": {},
   "source": [
    "### 2. Background"
   ]
  },
  {
   "cell_type": "code",
   "execution_count": null,
   "id": "intelligent-harmony",
   "metadata": {},
   "outputs": [],
   "source": []
  },
  {
   "cell_type": "markdown",
   "id": "innocent-plate",
   "metadata": {},
   "source": [
    "### 3. Theoretical Rationalization"
   ]
  },
  {
   "cell_type": "code",
   "execution_count": null,
   "id": "incorporate-mouth",
   "metadata": {},
   "outputs": [],
   "source": []
  },
  {
   "cell_type": "markdown",
   "id": "elder-diagram",
   "metadata": {},
   "source": [
    "### 4. Implementation"
   ]
  },
  {
   "cell_type": "markdown",
   "id": "verbal-marsh",
   "metadata": {},
   "source": [
    "**4.0. Setup Environment**"
   ]
  },
  {
   "cell_type": "code",
   "execution_count": null,
   "id": "uniform-river",
   "metadata": {},
   "outputs": [],
   "source": []
  },
  {
   "cell_type": "markdown",
   "id": "middle-composite",
   "metadata": {},
   "source": [
    "**4.1. Load and explore data**"
   ]
  },
  {
   "cell_type": "code",
   "execution_count": null,
   "id": "handmade-devil",
   "metadata": {},
   "outputs": [],
   "source": []
  },
  {
   "cell_type": "markdown",
   "id": "interim-father",
   "metadata": {},
   "source": [
    "**4.2. Preprocess data**"
   ]
  },
  {
   "cell_type": "code",
   "execution_count": null,
   "id": "broadband-independence",
   "metadata": {},
   "outputs": [],
   "source": []
  },
  {
   "cell_type": "markdown",
   "id": "coral-copyright",
   "metadata": {},
   "source": [
    "**4.3. Choose and implement model**"
   ]
  },
  {
   "cell_type": "code",
   "execution_count": null,
   "id": "vital-buying",
   "metadata": {},
   "outputs": [],
   "source": []
  },
  {
   "cell_type": "markdown",
   "id": "antique-lincoln",
   "metadata": {},
   "source": [
    "**4.4. Train model**"
   ]
  },
  {
   "cell_type": "code",
   "execution_count": null,
   "id": "painful-executive",
   "metadata": {},
   "outputs": [],
   "source": []
  },
  {
   "cell_type": "markdown",
   "id": "canadian-patient",
   "metadata": {},
   "source": [
    "**4.5. Evaluate model**"
   ]
  },
  {
   "cell_type": "code",
   "execution_count": null,
   "id": "cubic-validation",
   "metadata": {},
   "outputs": [],
   "source": []
  },
  {
   "cell_type": "markdown",
   "id": "flexible-certificate",
   "metadata": {},
   "source": [
    "### 5. Conclusions "
   ]
  },
  {
   "cell_type": "markdown",
   "id": "fixed-notebook",
   "metadata": {},
   "source": [
    "### 6. References"
   ]
  },
  {
   "cell_type": "code",
   "execution_count": null,
   "id": "superior-vitamin",
   "metadata": {},
   "outputs": [],
   "source": []
  }
 ],
 "metadata": {
  "kernelspec": {
   "display_name": "Python 3",
   "language": "python",
   "name": "python3"
  },
  "language_info": {
   "codemirror_mode": {
    "name": "ipython",
    "version": 3
   },
   "file_extension": ".py",
   "mimetype": "text/x-python",
   "name": "python",
   "nbconvert_exporter": "python",
   "pygments_lexer": "ipython3",
   "version": "3.7.9"
  }
 },
 "nbformat": 4,
 "nbformat_minor": 5
}
