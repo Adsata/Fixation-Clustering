{
 "cells": [
  {
   "cell_type": "markdown",
   "id": "legal-triangle",
   "metadata": {},
   "source": [
    "# GazeClusterML\n",
    "\n",
    "### Authored by: Taimur Khan, Benjamin Nava Höer\n",
    "***Final Project for TU Berlin WU'20 course: Machine Learning using Python: Theory and Application**\n",
    "\n",
    "___**Licensed under:**___"
   ]
  },
  {
   "cell_type": "markdown",
   "id": "premium-murder",
   "metadata": {},
   "source": [
    "### 1. Abstract"
   ]
  },
  {
   "cell_type": "markdown",
   "id": "nonprofit-aquatic",
   "metadata": {},
   "source": [
    "TK:\n",
    "- Present the goal of this project --> using ML clustering methods to label webcam eyetracking data"
   ]
  },
  {
   "cell_type": "markdown",
   "id": "listed-behalf",
   "metadata": {},
   "source": [
    "### 2. Background"
   ]
  },
  {
   "cell_type": "markdown",
   "id": "consistent-heating",
   "metadata": {},
   "source": [
    "TK: \n",
    "- Present the problem, quote Zemblys et.al. --> can we classify webcam eytracking data into fixations and saccades?\n",
    "- The problem of labeled data --> meaning unsupervised learning"
   ]
  },
  {
   "cell_type": "markdown",
   "id": "interesting-discrimination",
   "metadata": {},
   "source": [
    "### 3. Theoretical Rationalization"
   ]
  },
  {
   "cell_type": "markdown",
   "id": "industrial-thunder",
   "metadata": {},
   "source": [
    "1) DBSCAN\n",
    "\n",
    "2) OPTICS\n",
    "\n",
    "3) ST-DBSCAN\n",
    "\n",
    "4) ST-OPTICS\n",
    "\n",
    "(provide refrences to papers where possible)"
   ]
  },
  {
   "cell_type": "markdown",
   "id": "broke-commonwealth",
   "metadata": {},
   "source": [
    "### 4. Implementation"
   ]
  },
  {
   "cell_type": "markdown",
   "id": "fresh-klein",
   "metadata": {},
   "source": [
    "**4.0. Setup Environment**"
   ]
  },
  {
   "cell_type": "code",
   "execution_count": null,
   "id": "protecting-equipment",
   "metadata": {},
   "outputs": [],
   "source": []
  },
  {
   "cell_type": "markdown",
   "id": "engaged-trunk",
   "metadata": {},
   "source": [
    "**4.1. Load and explore data**"
   ]
  },
  {
   "cell_type": "code",
   "execution_count": 1,
   "id": "departmental-theology",
   "metadata": {},
   "outputs": [
    {
     "name": "stdout",
     "output_type": "stream",
     "text": [
      "     timestamp            x           y     label\n",
      "0            0   986.288075  508.004755  Fixation\n",
      "1           73  1005.492167  495.522600  Fixation\n",
      "2          134   942.353008  492.123891  Fixation\n",
      "3          185   948.193646  474.714589  Fixation\n",
      "4          235   938.728917  481.875697  Fixation\n",
      "..         ...          ...         ...       ...\n",
      "968      60338   904.812802  246.252619   Saccade\n",
      "969      60397   861.176955  262.574859  Fixation\n",
      "970      60447   732.960155  276.037371  Fixation\n",
      "971      60531   635.075056  295.309572   Saccade\n",
      "972      60581   618.075163  313.958367  Fixation\n",
      "\n",
      "[973 rows x 4 columns]\n",
      "      timestamp            x           y     label\n",
      "0             0   805.724813  598.797895  Fixation\n",
      "1            60   830.150531  575.433364  Fixation\n",
      "2           145   853.116613  571.833358  Fixation\n",
      "3           196   840.831675  574.131049  Fixation\n",
      "4           246   841.620069  571.197856   Saccade\n",
      "...         ...          ...         ...       ...\n",
      "1098      68922   992.337366  583.112148  Fixation\n",
      "1099      68976   939.116101  544.840858  Fixation\n",
      "1100      69027   925.749212  530.538707  Fixation\n",
      "1101      69108   928.691400  529.659512  Fixation\n",
      "1102      69160  1021.360609  556.513418   Saccade\n",
      "\n",
      "[1103 rows x 4 columns]\n"
     ]
    }
   ],
   "source": [
    "# load data from the rest api\n",
    "import json\n",
    "import urllib.request\n",
    "import pandas\n",
    "\n",
    "url = urllib.request.urlopen(\"http://dschr.de/api/resultCombineData\")\n",
    "data = json.loads(url.read().decode())\n",
    "ts1 = pandas.DataFrame(data[0][\"data\"]) # time series 1\n",
    "ts2 = pandas.DataFrame(data[1][\"data\"]) # time series 2\n",
    "\n",
    "# setting timestamp to start by 0\n",
    "ts1['timestamp'] = ts1['timestamp'].apply(lambda x: x - ts1['timestamp'][0]) \n",
    "ts2['timestamp'] = ts2['timestamp'].apply(lambda x: x - ts2['timestamp'][0])\n",
    "\n",
    "print(ts1)\n",
    "print(ts2)"
   ]
  },
  {
   "cell_type": "markdown",
   "id": "historical-wonder",
   "metadata": {},
   "source": [
    "**4.2. Preprocess data**"
   ]
  },
  {
   "cell_type": "code",
   "execution_count": null,
   "id": "homeless-target",
   "metadata": {},
   "outputs": [],
   "source": [
    "session_arrays = []\n",
    "for i in range(16):\n",
    "    current_df = pandas.DataFrame(data[i][\"data\"])\n",
    "    current_df['timestamp'] = current_df['timestamp'].apply(lambda x: x - current_df['timestamp'][0])\n",
    "    session_arrays.append(current_df.to_numpy())\n",
    "for i in session_arrays:\n",
    "    print(i.shape)"
   ]
  },
  {
   "cell_type": "markdown",
   "id": "forward-failure",
   "metadata": {},
   "source": [
    "**4.3. Choose and implement model**"
   ]
  },
  {
   "cell_type": "code",
   "execution_count": null,
   "id": "ordinary-quantum",
   "metadata": {},
   "outputs": [],
   "source": []
  },
  {
   "cell_type": "markdown",
   "id": "advance-inclusion",
   "metadata": {},
   "source": [
    "**4.4. Train model**"
   ]
  },
  {
   "cell_type": "code",
   "execution_count": null,
   "id": "cheap-europe",
   "metadata": {},
   "outputs": [],
   "source": []
  },
  {
   "cell_type": "markdown",
   "id": "advanced-albert",
   "metadata": {},
   "source": [
    "**4.5**"
   ]
  },
  {
   "cell_type": "markdown",
   "id": "statewide-bubble",
   "metadata": {},
   "source": [
    "**4.5. Evaluate model**"
   ]
  },
  {
   "cell_type": "code",
   "execution_count": null,
   "id": "martial-marine",
   "metadata": {},
   "outputs": [],
   "source": []
  },
  {
   "cell_type": "markdown",
   "id": "bored-length",
   "metadata": {},
   "source": [
    "### 5. Results"
   ]
  },
  {
   "cell_type": "markdown",
   "id": "sunset-labor",
   "metadata": {},
   "source": [
    "### 6. Conclusions "
   ]
  },
  {
   "cell_type": "markdown",
   "id": "productive-surrey",
   "metadata": {},
   "source": [
    "### 7. References"
   ]
  },
  {
   "cell_type": "markdown",
   "id": "passive-flavor",
   "metadata": {},
   "source": [
    "* Ankerst, M., Breunig, M. M., Kriegel, H. P., & Sander, J. (1999). OPTICS: ordering points to identify the clustering structure. ACM Sigmod record, 28(2), 49-60.\n",
    "* Birant, Derya, and Alp Kut. \"ST-DBSCAN: An algorithm for clustering spatial–temporal data.\" Data & Knowledge Engineering 60.1 (2007): 208-221.\n",
    "* Ester, M., H. P. Kriegel, J. Sander, and X. Xu, \"A Density-Based Algorithm for Discovering Clusters in Large Spatial Databases with Noise\". In: Proceedings of the 2nd International Conference on Knowledge Discovery and Data Mining, Portland, OR, AAAI Press, pp. 226-231. 1996\n",
    "* Peca, I., Fuchs, G., Vrotsou, K., Andrienko, N. V., & Andrienko, G. L. (2012). Scalable Cluster Analysis of Spatial Events. In EuroVA@ EuroVis.\n",
    "* Zemblys, Raimondas, et al. \"Using machine learning to detect events in eye-tracking data.\" Behavior research methods 50.1 (2018): 160-181."
   ]
  },
  {
   "cell_type": "code",
   "execution_count": null,
   "id": "digital-liability",
   "metadata": {},
   "outputs": [],
   "source": []
  }
 ],
 "metadata": {
  "kernelspec": {
   "display_name": "Python 3",
   "language": "python",
   "name": "python3"
  },
  "language_info": {
   "codemirror_mode": {
    "name": "ipython",
    "version": 3
   },
   "file_extension": ".py",
   "mimetype": "text/x-python",
   "name": "python",
   "nbconvert_exporter": "python",
   "pygments_lexer": "ipython3",
   "version": "3.7.9"
  }
 },
 "nbformat": 4,
 "nbformat_minor": 5
}
